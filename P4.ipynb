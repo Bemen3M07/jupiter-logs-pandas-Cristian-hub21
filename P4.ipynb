{
 "cells": [
  {
   "cell_type": "code",
   "execution_count": 2,
   "id": "5afcb8da-b0f3-459e-9991-6d73727d0ca0",
   "metadata": {},
   "outputs": [
    {
     "name": "stdout",
     "output_type": "stream",
     "text": [
      "19:23:50 - INFO - Informe Mensaje\n",
      "19:23:50 - ERROR - Error Mensaje\n",
      "19:23:50 - INFO - CSV Mensaje\n",
      "19:23:52 - INFO - Informe Mensaje\n",
      "19:23:52 - ERROR - Error Mensaje\n",
      "19:23:52 - INFO - CSV Mensaje\n",
      "19:23:54 - INFO - Informe Mensaje\n",
      "19:23:54 - ERROR - Error Mensaje\n",
      "19:23:54 - INFO - CSV Mensaje\n",
      "19:23:56 - INFO - Informe Mensaje\n",
      "19:23:56 - ERROR - Error Mensaje\n",
      "19:23:56 - INFO - CSV Mensaje\n",
      "19:23:58 - INFO - Informe Mensaje\n",
      "19:23:58 - ERROR - Error Mensaje\n",
      "19:23:58 - INFO - CSV Mensaje\n",
      "19:24:00 - INFO - Informe Mensaje\n",
      "19:24:00 - ERROR - Error Mensaje\n",
      "19:24:00 - INFO - CSV Mensaje\n",
      "19:24:02 - INFO - Informe Mensaje\n",
      "19:24:02 - ERROR - Error Mensaje\n",
      "19:24:02 - INFO - CSV Mensaje\n",
      "19:24:04 - INFO - Informe Mensaje\n",
      "19:24:04 - ERROR - Error Mensaje\n",
      "19:24:04 - INFO - CSV Mensaje\n",
      "19:24:06 - INFO - Informe Mensaje\n",
      "19:24:06 - ERROR - Error Mensaje\n",
      "19:24:06 - INFO - CSV Mensaje\n",
      "19:24:08 - INFO - Informe Mensaje\n",
      "19:24:08 - ERROR - Error Mensaje\n",
      "19:24:08 - INFO - CSV Mensaje\n"
     ]
    },
    {
     "ename": "KeyboardInterrupt",
     "evalue": "",
     "output_type": "error",
     "traceback": [
      "\u001b[0;31m---------------------------------------------------------------------------\u001b[0m",
      "\u001b[0;31mKeyboardInterrupt\u001b[0m                         Traceback (most recent call last)",
      "Cell \u001b[0;32mIn[2], line 15\u001b[0m\n\u001b[1;32m     12\u001b[0m info_logger\u001b[38;5;241m.\u001b[39merror(\u001b[38;5;124m\"\u001b[39m\u001b[38;5;124mError Mensaje\u001b[39m\u001b[38;5;124m\"\u001b[39m)\n\u001b[1;32m     13\u001b[0m csv_logger\u001b[38;5;241m.\u001b[39minfo(\u001b[38;5;124m\"\u001b[39m\u001b[38;5;124mCSV Mensaje\u001b[39m\u001b[38;5;124m\"\u001b[39m)\n\u001b[0;32m---> 15\u001b[0m \u001b[43mtime\u001b[49m\u001b[38;5;241;43m.\u001b[39;49m\u001b[43msleep\u001b[49m\u001b[43m(\u001b[49m\u001b[38;5;241;43m2\u001b[39;49m\u001b[43m)\u001b[49m\n",
      "\u001b[0;31mKeyboardInterrupt\u001b[0m: "
     ]
    }
   ],
   "source": [
    "import logging\n",
    "import logging.config\n",
    "import time\n",
    "\n",
    "logging.config.fileConfig('Logging.conf')\n",
    "\n",
    "info_logger = logging.getLogger('info_Logger')\n",
    "csv_logger = logging.getLogger('csv_Logger')\n",
    "\n",
    "while True:\n",
    "    info_logger.info(\"Informe Mensaje\")\n",
    "    info_logger.error(\"Error Mensaje\")\n",
    "    csv_logger.info(\"CSV Mensaje\")\n",
    "\n",
    "    time.sleep(2)"
   ]
  },
  {
   "cell_type": "code",
   "execution_count": null,
   "id": "5a781251-62ef-4baa-9da1-36384698033d",
   "metadata": {},
   "outputs": [],
   "source": []
  }
 ],
 "metadata": {
  "kernelspec": {
   "display_name": "Python 3 (ipykernel)",
   "language": "python",
   "name": "python3"
  },
  "language_info": {
   "codemirror_mode": {
    "name": "ipython",
    "version": 3
   },
   "file_extension": ".py",
   "mimetype": "text/x-python",
   "name": "python",
   "nbconvert_exporter": "python",
   "pygments_lexer": "ipython3",
   "version": "3.12.1"
  }
 },
 "nbformat": 4,
 "nbformat_minor": 5
}
