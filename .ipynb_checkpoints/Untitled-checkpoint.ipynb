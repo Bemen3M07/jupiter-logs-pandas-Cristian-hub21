{
 "cells": [
  {
   "cell_type": "code",
   "execution_count": null,
   "id": "70b02bd7-6526-4f48-990e-e555e10f2fee",
   "metadata": {},
   "outputs": [],
   "source": [
    "import logging\n",
    "logging.warning('Watch out!')  # will print a message to the console\n",
    "logging.info('I told you so')  # will not print anything"
   ]
  },
  {
   "cell_type": "code",
   "execution_count": null,
   "id": "5baeec4f-ef89-4ef4-855d-7ef222617558",
   "metadata": {},
   "outputs": [],
   "source": [
    "import logging\n",
    "logging.basicConfig(format='%(levelname)s:%(message)s', level=logging.DEBUG)\n",
    "logging.debug('This message should appear on the console')\n",
    "logging.info('So should this')\n",
    "logging.warning('And this, too')"
   ]
  },
  {
   "cell_type": "code",
   "execution_count": null,
   "id": "9d5f5a3e-66c8-4206-b757-0dcc9b120bdb",
   "metadata": {},
   "outputs": [],
   "source": [
    "import logging\n",
    "logger = logging.getLogger(__name__)\n",
    "logging.basicConfig(filename='example.log', encoding='utf-8', level=logging.DEBUG)\n",
    "logger.debug('This message should go to the log file')\n",
    "logger.info('So should this')\n",
    "logger.warning('And this, too')\n",
    "logger.error('And non-ASCII stuff, too, like Øresund and Malmö')"
   ]
  },
  {
   "cell_type": "code",
   "execution_count": null,
   "id": "b4df45b6-73aa-436b-9e42-e2104011c93d",
   "metadata": {},
   "outputs": [],
   "source": [
    "import logging \n",
    "import time \n",
    "\n",
    "logging.basicConfig(filename='bucle.log',level=logging.INFO)\n",
    "\n",
    "while True:\n",
    "    logging.info(\"bucle\")\n",
    "    time.sleep(2)"
   ]
  },
  {
   "cell_type": "code",
   "execution_count": null,
   "id": "2f47c3c6-2e22-43b5-8794-ba714c4f52cf",
   "metadata": {},
   "outputs": [],
   "source": []
  }
 ],
 "metadata": {
  "kernelspec": {
   "display_name": "Python 3 (ipykernel)",
   "language": "python",
   "name": "python3"
  },
  "language_info": {
   "codemirror_mode": {
    "name": "ipython",
    "version": 3
   },
   "file_extension": ".py",
   "mimetype": "text/x-python",
   "name": "python",
   "nbconvert_exporter": "python",
   "pygments_lexer": "ipython3",
   "version": "3.12.1"
  }
 },
 "nbformat": 4,
 "nbformat_minor": 5
}
