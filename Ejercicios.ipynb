{
 "cells": [
  {
   "cell_type": "raw",
   "id": "b3a59342-e9cc-4e16-b3e2-fc10791b7a27",
   "metadata": {},
   "source": [
    "Exercici 1 \n",
    "\n",
    "1- Amb les teves pròpies paraules, podries explicar que es,? \n",
    "\n",
    "    a. Jupyter: Es una herramienta interactiva para escribir y ejecutar código, ver resultados y agregar notas, muy usada en ciencia de datos.\n",
    "    \n",
    "    b. Anaconda: Es una distribución de Python con herramientas y bibliotecas para ciencia de datos, que facilita la instalación y gestión de paquetes.\n",
    "    \n",
    "    c. Paquete logging: Es una librería de Python para registrar mensajes sobre la ejecución de un programa, útil para depurar errores y hacer seguimiento.\n"
   ]
  },
  {
   "cell_type": "raw",
   "id": "f9423e0f-c2b9-4614-a9f1-b0a5f67dab59",
   "metadata": {},
   "source": [
    "Exercici 2\n",
    "\n",
    "2- Per que creus que es necessari implementar un log en un programa? Raona la  resposta i fica exemples del perquè ho creus (mínim 3 exemples).\n",
    "\n",
    "Implementar un log en un programa es clave por varias razones:\n",
    "\n",
    "1. Detección y resolución de errores: Los logs registran fallos y problemas, lo que facilita encontrar y corregir errores rápidamente.  \n",
    "Ejemplo: Si un sistema de inventario no actualiza el stock, el log muestra el error y la acción que lo causó.\n",
    "\n",
    "2. Monitoreo del rendimiento: Permiten seguir el comportamiento de la aplicación y mejorar su rendimiento.  \n",
    "Ejemplo: En una tienda online, los logs pueden identificar si el servidor es lento en determinados momentos.\n",
    "\n",
    "3. Mejora de la seguridad: Ayudan a detectar accesos no autorizados o comportamientos sospechosos, aumentando la seguridad del sistema.  \n",
    "Ejemplo: En una app bancaria, los logs pueden detectar intentos fallidos de inicio de sesión.\n",
    "\n",
    "En resumen, los logs permiten detectar problemas, mejorar el rendimiento y asegurar la aplicación."
   ]
  },
  {
   "cell_type": "raw",
   "id": "dd027e80-dc9b-4821-9f8b-4fb653ccd3cd",
   "metadata": {},
   "source": [
    "Logging 1 \n",
    "\n",
    "1. logging.basicConfig(format='%(asctime)s - %(message)s', level=logging.INFO):\n",
    "Configura el registro para mostrar la fecha y el mensaje, y establece el nivel de registro como `INFO`.\n",
    "\n",
    "2. logging.info('Admin ha accedido'): \n",
    "Registra un mensaje de tipo `INFO` que indica que un administrador ha accedido.\n",
    "\n",
    "\n",
    "Logging 2 \n",
    "\n",
    "f_handler = logging.FileHandler('file.log'): \n",
    "Crea un manejador de archivo que registrará los mensajes de log en un archivo llamado `file.log`. Esto permite almacenar los registros en un archivo en lugar de mostrarlos solo en la consola.\n",
    "Logging 3 \n",
    "\n",
    "1. logging.basicConfig(format='%(process)d - %(levelname)s - %(message)s'): \n",
    "Configura el formato de los mensajes de log para incluir el ID del proceso, el nivel de gravedad (como `WARNING`), y el mensaje.\n",
    "\n",
    "2. logging.warning('This is a Warning'): \n",
    "Registra un mensaje de advertencia con el texto \"This is a Warning\".\n",
    "\n",
    "\n",
    "Logging 3 \n",
    "\n",
    "1. logging.basicConfig(format='%(process)d - %(levelname)s - %(message)s'): \n",
    "Configura el formato de los mensajes de log para incluir el ID del proceso, el nivel de gravedad (como `WARNING`), y el mensaje.\n",
    "\n",
    "2. logging.warning('This is a Warning'): \n",
    "Registra un mensaje de advertencia con el texto \"This is a Warning\".\n"
   ]
  }
 ],
 "metadata": {
  "kernelspec": {
   "display_name": "Python 3 (ipykernel)",
   "language": "python",
   "name": "python3"
  },
  "language_info": {
   "codemirror_mode": {
    "name": "ipython",
    "version": 3
   },
   "file_extension": ".py",
   "mimetype": "text/x-python",
   "name": "python",
   "nbconvert_exporter": "python",
   "pygments_lexer": "ipython3",
   "version": "3.12.1"
  }
 },
 "nbformat": 4,
 "nbformat_minor": 5
}
